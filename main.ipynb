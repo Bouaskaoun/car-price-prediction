{
 "cells": [
  {
   "cell_type": "code",
   "execution_count": 1,
   "metadata": {},
   "outputs": [],
   "source": [
    "import numpy as np\n",
    "import pandas as pd\n",
    "import matplotlib.pyplot as plt\n",
    "import seaborn as sns"
   ]
  },
  {
   "cell_type": "code",
   "execution_count": 12,
   "metadata": {},
   "outputs": [],
   "source": [
    "df = pd.read_csv('cars.csv')"
   ]
  },
  {
   "cell_type": "code",
   "execution_count": 13,
   "metadata": {},
   "outputs": [
    {
     "data": {
      "text/html": [
       "<div>\n",
       "<style scoped>\n",
       "    .dataframe tbody tr th:only-of-type {\n",
       "        vertical-align: middle;\n",
       "    }\n",
       "\n",
       "    .dataframe tbody tr th {\n",
       "        vertical-align: top;\n",
       "    }\n",
       "\n",
       "    .dataframe thead th {\n",
       "        text-align: right;\n",
       "    }\n",
       "</style>\n",
       "<table border=\"1\" class=\"dataframe\">\n",
       "  <thead>\n",
       "    <tr style=\"text-align: right;\">\n",
       "      <th></th>\n",
       "      <th>name</th>\n",
       "      <th>year</th>\n",
       "      <th>Price</th>\n",
       "      <th>kms_driven</th>\n",
       "      <th>fuel_type</th>\n",
       "    </tr>\n",
       "  </thead>\n",
       "  <tbody>\n",
       "    <tr>\n",
       "      <th>0</th>\n",
       "      <td>Hyundai Santro Xing XO eRLX Euro III</td>\n",
       "      <td>2007</td>\n",
       "      <td>80,000</td>\n",
       "      <td>45,000 kms</td>\n",
       "      <td>Petrol</td>\n",
       "    </tr>\n",
       "    <tr>\n",
       "      <th>1</th>\n",
       "      <td>Mahindra Jeep CL550 MDI</td>\n",
       "      <td>2006</td>\n",
       "      <td>4,25,000</td>\n",
       "      <td>40 kms</td>\n",
       "      <td>Diesel</td>\n",
       "    </tr>\n",
       "    <tr>\n",
       "      <th>2</th>\n",
       "      <td>Maruti Suzuki Alto 800 Vxi</td>\n",
       "      <td>2018</td>\n",
       "      <td>Ask For Price</td>\n",
       "      <td>22,000 kms</td>\n",
       "      <td>Petrol</td>\n",
       "    </tr>\n",
       "    <tr>\n",
       "      <th>3</th>\n",
       "      <td>Hyundai Grand i10 Magna 1.2 Kappa VTVT</td>\n",
       "      <td>2014</td>\n",
       "      <td>3,25,000</td>\n",
       "      <td>28,000 kms</td>\n",
       "      <td>Petrol</td>\n",
       "    </tr>\n",
       "    <tr>\n",
       "      <th>4</th>\n",
       "      <td>Ford EcoSport Titanium 1.5L TDCi</td>\n",
       "      <td>2014</td>\n",
       "      <td>5,75,000</td>\n",
       "      <td>36,000 kms</td>\n",
       "      <td>Diesel</td>\n",
       "    </tr>\n",
       "  </tbody>\n",
       "</table>\n",
       "</div>"
      ],
      "text/plain": [
       "                                     name  year          Price  kms_driven  \\\n",
       "0    Hyundai Santro Xing XO eRLX Euro III  2007         80,000  45,000 kms   \n",
       "1                 Mahindra Jeep CL550 MDI  2006       4,25,000      40 kms   \n",
       "2              Maruti Suzuki Alto 800 Vxi  2018  Ask For Price  22,000 kms   \n",
       "3  Hyundai Grand i10 Magna 1.2 Kappa VTVT  2014       3,25,000  28,000 kms   \n",
       "4        Ford EcoSport Titanium 1.5L TDCi  2014       5,75,000  36,000 kms   \n",
       "\n",
       "  fuel_type  \n",
       "0    Petrol  \n",
       "1    Diesel  \n",
       "2    Petrol  \n",
       "3    Petrol  \n",
       "4    Diesel  "
      ]
     },
     "execution_count": 13,
     "metadata": {},
     "output_type": "execute_result"
    }
   ],
   "source": [
    "df.head()"
   ]
  },
  {
   "cell_type": "code",
   "execution_count": 14,
   "metadata": {},
   "outputs": [],
   "source": [
    "df['Company'] = df.name.apply(lambda x: x.split(' ')[0])"
   ]
  },
  {
   "cell_type": "code",
   "execution_count": 15,
   "metadata": {},
   "outputs": [
    {
     "data": {
      "text/html": [
       "<div>\n",
       "<style scoped>\n",
       "    .dataframe tbody tr th:only-of-type {\n",
       "        vertical-align: middle;\n",
       "    }\n",
       "\n",
       "    .dataframe tbody tr th {\n",
       "        vertical-align: top;\n",
       "    }\n",
       "\n",
       "    .dataframe thead th {\n",
       "        text-align: right;\n",
       "    }\n",
       "</style>\n",
       "<table border=\"1\" class=\"dataframe\">\n",
       "  <thead>\n",
       "    <tr style=\"text-align: right;\">\n",
       "      <th></th>\n",
       "      <th>name</th>\n",
       "      <th>year</th>\n",
       "      <th>Price</th>\n",
       "      <th>kms_driven</th>\n",
       "      <th>fuel_type</th>\n",
       "      <th>Company</th>\n",
       "    </tr>\n",
       "  </thead>\n",
       "  <tbody>\n",
       "    <tr>\n",
       "      <th>0</th>\n",
       "      <td>Hyundai Santro Xing XO eRLX Euro III</td>\n",
       "      <td>2007</td>\n",
       "      <td>80,000</td>\n",
       "      <td>45,000 kms</td>\n",
       "      <td>Petrol</td>\n",
       "      <td>Hyundai</td>\n",
       "    </tr>\n",
       "    <tr>\n",
       "      <th>1</th>\n",
       "      <td>Mahindra Jeep CL550 MDI</td>\n",
       "      <td>2006</td>\n",
       "      <td>4,25,000</td>\n",
       "      <td>40 kms</td>\n",
       "      <td>Diesel</td>\n",
       "      <td>Mahindra</td>\n",
       "    </tr>\n",
       "    <tr>\n",
       "      <th>2</th>\n",
       "      <td>Maruti Suzuki Alto 800 Vxi</td>\n",
       "      <td>2018</td>\n",
       "      <td>Ask For Price</td>\n",
       "      <td>22,000 kms</td>\n",
       "      <td>Petrol</td>\n",
       "      <td>Maruti</td>\n",
       "    </tr>\n",
       "    <tr>\n",
       "      <th>3</th>\n",
       "      <td>Hyundai Grand i10 Magna 1.2 Kappa VTVT</td>\n",
       "      <td>2014</td>\n",
       "      <td>3,25,000</td>\n",
       "      <td>28,000 kms</td>\n",
       "      <td>Petrol</td>\n",
       "      <td>Hyundai</td>\n",
       "    </tr>\n",
       "    <tr>\n",
       "      <th>4</th>\n",
       "      <td>Ford EcoSport Titanium 1.5L TDCi</td>\n",
       "      <td>2014</td>\n",
       "      <td>5,75,000</td>\n",
       "      <td>36,000 kms</td>\n",
       "      <td>Diesel</td>\n",
       "      <td>Ford</td>\n",
       "    </tr>\n",
       "  </tbody>\n",
       "</table>\n",
       "</div>"
      ],
      "text/plain": [
       "                                     name  year          Price  kms_driven  \\\n",
       "0    Hyundai Santro Xing XO eRLX Euro III  2007         80,000  45,000 kms   \n",
       "1                 Mahindra Jeep CL550 MDI  2006       4,25,000      40 kms   \n",
       "2              Maruti Suzuki Alto 800 Vxi  2018  Ask For Price  22,000 kms   \n",
       "3  Hyundai Grand i10 Magna 1.2 Kappa VTVT  2014       3,25,000  28,000 kms   \n",
       "4        Ford EcoSport Titanium 1.5L TDCi  2014       5,75,000  36,000 kms   \n",
       "\n",
       "  fuel_type   Company  \n",
       "0    Petrol   Hyundai  \n",
       "1    Diesel  Mahindra  \n",
       "2    Petrol    Maruti  \n",
       "3    Petrol   Hyundai  \n",
       "4    Diesel      Ford  "
      ]
     },
     "execution_count": 15,
     "metadata": {},
     "output_type": "execute_result"
    }
   ],
   "source": [
    "df.head()"
   ]
  },
  {
   "cell_type": "code",
   "execution_count": 16,
   "metadata": {},
   "outputs": [
    {
     "name": "stdout",
     "output_type": "stream",
     "text": [
      "<class 'pandas.core.frame.DataFrame'>\n",
      "RangeIndex: 892 entries, 0 to 891\n",
      "Data columns (total 6 columns):\n",
      " #   Column      Non-Null Count  Dtype \n",
      "---  ------      --------------  ----- \n",
      " 0   name        892 non-null    object\n",
      " 1   year        892 non-null    object\n",
      " 2   Price       892 non-null    object\n",
      " 3   kms_driven  840 non-null    object\n",
      " 4   fuel_type   837 non-null    object\n",
      " 5   Company     892 non-null    object\n",
      "dtypes: object(6)\n",
      "memory usage: 41.9+ KB\n"
     ]
    }
   ],
   "source": [
    "df.info()"
   ]
  },
  {
   "cell_type": "code",
   "execution_count": 17,
   "metadata": {},
   "outputs": [
    {
     "data": {
      "text/plain": [
       "array(['2007', '2006', '2018', '2014', '2015', '2012', '2013', '2016',\n",
       "       '2010', '2017', '2008', '2011', '2019', '2009', '2005', '2000',\n",
       "       '...', '150k', 'TOUR', '2003', 'r 15', '2004', 'Zest', '/-Rs',\n",
       "       'sale', '1995', 'ara)', '2002', 'SELL', '2001', 'tion', 'odel',\n",
       "       '2 bs', 'arry', 'Eon', 'o...', 'ture', 'emi', 'car', 'able', 'no.',\n",
       "       'd...', 'SALE', 'digo', 'sell', 'd Ex', 'n...', 'e...', 'D...',\n",
       "       ', Ac', 'go .', 'k...', 'o c4', 'zire', 'cent', 'Sumo', 'cab',\n",
       "       't xe', 'EV2', 'r...', 'zest'], dtype=object)"
      ]
     },
     "execution_count": 17,
     "metadata": {},
     "output_type": "execute_result"
    }
   ],
   "source": [
    "df.year.unique()"
   ]
  },
  {
   "cell_type": "code",
   "execution_count": 20,
   "metadata": {},
   "outputs": [],
   "source": [
    "df = df[df.year.str.isnumeric()]"
   ]
  },
  {
   "cell_type": "code",
   "execution_count": 22,
   "metadata": {},
   "outputs": [],
   "source": [
    "df.year = df.year.astype(int)"
   ]
  },
  {
   "cell_type": "code",
   "execution_count": 24,
   "metadata": {},
   "outputs": [
    {
     "data": {
      "text/html": [
       "<div>\n",
       "<style scoped>\n",
       "    .dataframe tbody tr th:only-of-type {\n",
       "        vertical-align: middle;\n",
       "    }\n",
       "\n",
       "    .dataframe tbody tr th {\n",
       "        vertical-align: top;\n",
       "    }\n",
       "\n",
       "    .dataframe thead th {\n",
       "        text-align: right;\n",
       "    }\n",
       "</style>\n",
       "<table border=\"1\" class=\"dataframe\">\n",
       "  <thead>\n",
       "    <tr style=\"text-align: right;\">\n",
       "      <th></th>\n",
       "      <th>name</th>\n",
       "      <th>year</th>\n",
       "      <th>Price</th>\n",
       "      <th>kms_driven</th>\n",
       "      <th>fuel_type</th>\n",
       "      <th>Company</th>\n",
       "    </tr>\n",
       "  </thead>\n",
       "  <tbody>\n",
       "    <tr>\n",
       "      <th>2</th>\n",
       "      <td>Maruti Suzuki Alto 800 Vxi</td>\n",
       "      <td>2018</td>\n",
       "      <td>Ask For Price</td>\n",
       "      <td>22,000 kms</td>\n",
       "      <td>Petrol</td>\n",
       "      <td>Maruti</td>\n",
       "    </tr>\n",
       "    <tr>\n",
       "      <th>5</th>\n",
       "      <td>Ford EcoSport Titanium 1.5L TDCi</td>\n",
       "      <td>2015</td>\n",
       "      <td>Ask For Price</td>\n",
       "      <td>59,000 kms</td>\n",
       "      <td>Diesel</td>\n",
       "      <td>Ford</td>\n",
       "    </tr>\n",
       "    <tr>\n",
       "      <th>69</th>\n",
       "      <td>I want to sell my car Tata Zest</td>\n",
       "      <td>2017</td>\n",
       "      <td>Ask For Price</td>\n",
       "      <td>NaN</td>\n",
       "      <td>NaN</td>\n",
       "      <td>I</td>\n",
       "    </tr>\n",
       "    <tr>\n",
       "      <th>85</th>\n",
       "      <td>I want to sell my car Tata Zest</td>\n",
       "      <td>2017</td>\n",
       "      <td>Ask For Price</td>\n",
       "      <td>NaN</td>\n",
       "      <td>NaN</td>\n",
       "      <td>I</td>\n",
       "    </tr>\n",
       "    <tr>\n",
       "      <th>138</th>\n",
       "      <td>Maruti Suzuki Alto 800 Lxi</td>\n",
       "      <td>2018</td>\n",
       "      <td>Ask For Price</td>\n",
       "      <td>28,028 kms</td>\n",
       "      <td>Petrol</td>\n",
       "      <td>Maruti</td>\n",
       "    </tr>\n",
       "    <tr>\n",
       "      <th>295</th>\n",
       "      <td>Maruti Suzuki Swift LDi</td>\n",
       "      <td>2010</td>\n",
       "      <td>Ask For Price</td>\n",
       "      <td>52,000 kms</td>\n",
       "      <td>Diesel</td>\n",
       "      <td>Maruti</td>\n",
       "    </tr>\n",
       "    <tr>\n",
       "      <th>304</th>\n",
       "      <td>Tata Indica eV2 LS</td>\n",
       "      <td>2017</td>\n",
       "      <td>Ask For Price</td>\n",
       "      <td>84,000 kms</td>\n",
       "      <td>Diesel</td>\n",
       "      <td>Tata</td>\n",
       "    </tr>\n",
       "    <tr>\n",
       "      <th>388</th>\n",
       "      <td>Maruti Suzuki Alto 800 Lxi</td>\n",
       "      <td>2018</td>\n",
       "      <td>Ask For Price</td>\n",
       "      <td>24,000 kms</td>\n",
       "      <td>Petrol</td>\n",
       "      <td>Maruti</td>\n",
       "    </tr>\n",
       "    <tr>\n",
       "      <th>449</th>\n",
       "      <td>Maruti Suzuki Zen Estilo LXI Green CNG</td>\n",
       "      <td>2011</td>\n",
       "      <td>Ask For Price</td>\n",
       "      <td>16,000 kms</td>\n",
       "      <td>Petrol</td>\n",
       "      <td>Maruti</td>\n",
       "    </tr>\n",
       "    <tr>\n",
       "      <th>503</th>\n",
       "      <td>Hyundai Xcent Base 1.1 CRDi</td>\n",
       "      <td>2015</td>\n",
       "      <td>Ask For Price</td>\n",
       "      <td>1,80,000 kms</td>\n",
       "      <td>Diesel</td>\n",
       "      <td>Hyundai</td>\n",
       "    </tr>\n",
       "    <tr>\n",
       "      <th>511</th>\n",
       "      <td>Hyundai Xcent S 1.2</td>\n",
       "      <td>2015</td>\n",
       "      <td>Ask For Price</td>\n",
       "      <td>35,000 kms</td>\n",
       "      <td>Petrol</td>\n",
       "      <td>Hyundai</td>\n",
       "    </tr>\n",
       "    <tr>\n",
       "      <th>524</th>\n",
       "      <td>Toyota Innova 2.0 V</td>\n",
       "      <td>2009</td>\n",
       "      <td>Ask For Price</td>\n",
       "      <td>15,574 kms</td>\n",
       "      <td>Diesel</td>\n",
       "      <td>Toyota</td>\n",
       "    </tr>\n",
       "    <tr>\n",
       "      <th>567</th>\n",
       "      <td>Datsun Go Plus T O</td>\n",
       "      <td>2016</td>\n",
       "      <td>Ask For Price</td>\n",
       "      <td>5 kms</td>\n",
       "      <td>Petrol</td>\n",
       "      <td>Datsun</td>\n",
       "    </tr>\n",
       "    <tr>\n",
       "      <th>613</th>\n",
       "      <td>Mahindra KUV100 K8 D 6 STR</td>\n",
       "      <td>2018</td>\n",
       "      <td>Ask For Price</td>\n",
       "      <td>7,500 kms</td>\n",
       "      <td>Diesel</td>\n",
       "      <td>Mahindra</td>\n",
       "    </tr>\n",
       "    <tr>\n",
       "      <th>619</th>\n",
       "      <td>Maruti Suzuki Alto LX BSII</td>\n",
       "      <td>2002</td>\n",
       "      <td>Ask For Price</td>\n",
       "      <td>56,000 kms</td>\n",
       "      <td>Petrol</td>\n",
       "      <td>Maruti</td>\n",
       "    </tr>\n",
       "    <tr>\n",
       "      <th>634</th>\n",
       "      <td>Hyundai Elite i20 Sportz 1.2</td>\n",
       "      <td>2015</td>\n",
       "      <td>Ask For Price</td>\n",
       "      <td>49,500 kms</td>\n",
       "      <td>Petrol</td>\n",
       "      <td>Hyundai</td>\n",
       "    </tr>\n",
       "    <tr>\n",
       "      <th>763</th>\n",
       "      <td>Tata Nexon</td>\n",
       "      <td>2019</td>\n",
       "      <td>Ask For Price</td>\n",
       "      <td>0 kms</td>\n",
       "      <td>Petrol</td>\n",
       "      <td>Tata</td>\n",
       "    </tr>\n",
       "    <tr>\n",
       "      <th>822</th>\n",
       "      <td>Hyundai Venue</td>\n",
       "      <td>2019</td>\n",
       "      <td>Ask For Price</td>\n",
       "      <td>7,000 kms</td>\n",
       "      <td>Diesel</td>\n",
       "      <td>Hyundai</td>\n",
       "    </tr>\n",
       "    <tr>\n",
       "      <th>826</th>\n",
       "      <td>Renault Lodgy</td>\n",
       "      <td>2016</td>\n",
       "      <td>Ask For Price</td>\n",
       "      <td>20,000 kms</td>\n",
       "      <td>Diesel</td>\n",
       "      <td>Renault</td>\n",
       "    </tr>\n",
       "    <tr>\n",
       "      <th>848</th>\n",
       "      <td>Maruti Suzuki Alto 800 Lx</td>\n",
       "      <td>2019</td>\n",
       "      <td>Ask For Price</td>\n",
       "      <td>1,500 kms</td>\n",
       "      <td>Petrol</td>\n",
       "      <td>Maruti</td>\n",
       "    </tr>\n",
       "    <tr>\n",
       "      <th>854</th>\n",
       "      <td>Volkswagen Vento Highline Plus 1.5 Diesel</td>\n",
       "      <td>2015</td>\n",
       "      <td>Ask For Price</td>\n",
       "      <td>38,900 kms</td>\n",
       "      <td>Diesel</td>\n",
       "      <td>Volkswagen</td>\n",
       "    </tr>\n",
       "    <tr>\n",
       "      <th>859</th>\n",
       "      <td>Toyota Innova 2.0 G1 Petrol 8seater</td>\n",
       "      <td>2019</td>\n",
       "      <td>Ask For Price</td>\n",
       "      <td>4,000 kms</td>\n",
       "      <td>Petrol</td>\n",
       "      <td>Toyota</td>\n",
       "    </tr>\n",
       "    <tr>\n",
       "      <th>882</th>\n",
       "      <td>Maruti Suzuki Alto 800 Select Variant</td>\n",
       "      <td>2015</td>\n",
       "      <td>Ask For Price</td>\n",
       "      <td>70,000 kms</td>\n",
       "      <td>Petrol</td>\n",
       "      <td>Maruti</td>\n",
       "    </tr>\n",
       "  </tbody>\n",
       "</table>\n",
       "</div>"
      ],
      "text/plain": [
       "                                          name  year          Price  \\\n",
       "2                   Maruti Suzuki Alto 800 Vxi  2018  Ask For Price   \n",
       "5             Ford EcoSport Titanium 1.5L TDCi  2015  Ask For Price   \n",
       "69             I want to sell my car Tata Zest  2017  Ask For Price   \n",
       "85             I want to sell my car Tata Zest  2017  Ask For Price   \n",
       "138                 Maruti Suzuki Alto 800 Lxi  2018  Ask For Price   \n",
       "295                    Maruti Suzuki Swift LDi  2010  Ask For Price   \n",
       "304                         Tata Indica eV2 LS  2017  Ask For Price   \n",
       "388                 Maruti Suzuki Alto 800 Lxi  2018  Ask For Price   \n",
       "449     Maruti Suzuki Zen Estilo LXI Green CNG  2011  Ask For Price   \n",
       "503                Hyundai Xcent Base 1.1 CRDi  2015  Ask For Price   \n",
       "511                        Hyundai Xcent S 1.2  2015  Ask For Price   \n",
       "524                        Toyota Innova 2.0 V  2009  Ask For Price   \n",
       "567                         Datsun Go Plus T O  2016  Ask For Price   \n",
       "613                 Mahindra KUV100 K8 D 6 STR  2018  Ask For Price   \n",
       "619                 Maruti Suzuki Alto LX BSII  2002  Ask For Price   \n",
       "634               Hyundai Elite i20 Sportz 1.2  2015  Ask For Price   \n",
       "763                                 Tata Nexon  2019  Ask For Price   \n",
       "822                              Hyundai Venue  2019  Ask For Price   \n",
       "826                              Renault Lodgy  2016  Ask For Price   \n",
       "848                  Maruti Suzuki Alto 800 Lx  2019  Ask For Price   \n",
       "854  Volkswagen Vento Highline Plus 1.5 Diesel  2015  Ask For Price   \n",
       "859        Toyota Innova 2.0 G1 Petrol 8seater  2019  Ask For Price   \n",
       "882      Maruti Suzuki Alto 800 Select Variant  2015  Ask For Price   \n",
       "\n",
       "       kms_driven fuel_type     Company  \n",
       "2      22,000 kms    Petrol      Maruti  \n",
       "5      59,000 kms    Diesel        Ford  \n",
       "69            NaN       NaN           I  \n",
       "85            NaN       NaN           I  \n",
       "138    28,028 kms    Petrol      Maruti  \n",
       "295    52,000 kms    Diesel      Maruti  \n",
       "304    84,000 kms    Diesel        Tata  \n",
       "388    24,000 kms    Petrol      Maruti  \n",
       "449    16,000 kms    Petrol      Maruti  \n",
       "503  1,80,000 kms    Diesel     Hyundai  \n",
       "511    35,000 kms    Petrol     Hyundai  \n",
       "524    15,574 kms    Diesel      Toyota  \n",
       "567         5 kms    Petrol      Datsun  \n",
       "613     7,500 kms    Diesel    Mahindra  \n",
       "619    56,000 kms    Petrol      Maruti  \n",
       "634    49,500 kms    Petrol     Hyundai  \n",
       "763         0 kms    Petrol        Tata  \n",
       "822     7,000 kms    Diesel     Hyundai  \n",
       "826    20,000 kms    Diesel     Renault  \n",
       "848     1,500 kms    Petrol      Maruti  \n",
       "854    38,900 kms    Diesel  Volkswagen  \n",
       "859     4,000 kms    Petrol      Toyota  \n",
       "882    70,000 kms    Petrol      Maruti  "
      ]
     },
     "execution_count": 24,
     "metadata": {},
     "output_type": "execute_result"
    }
   ],
   "source": [
    "df[df.Price == 'Ask For Price']"
   ]
  },
  {
   "cell_type": "code",
   "execution_count": 25,
   "metadata": {},
   "outputs": [],
   "source": [
    "df = df[df.Price != 'Ask For Price']"
   ]
  },
  {
   "cell_type": "code",
   "execution_count": 27,
   "metadata": {},
   "outputs": [],
   "source": [
    "df.Price = df.Price.str.replace(',','').astype(int)"
   ]
  },
  {
   "cell_type": "code",
   "execution_count": 28,
   "metadata": {},
   "outputs": [
    {
     "data": {
      "text/html": [
       "<div>\n",
       "<style scoped>\n",
       "    .dataframe tbody tr th:only-of-type {\n",
       "        vertical-align: middle;\n",
       "    }\n",
       "\n",
       "    .dataframe tbody tr th {\n",
       "        vertical-align: top;\n",
       "    }\n",
       "\n",
       "    .dataframe thead th {\n",
       "        text-align: right;\n",
       "    }\n",
       "</style>\n",
       "<table border=\"1\" class=\"dataframe\">\n",
       "  <thead>\n",
       "    <tr style=\"text-align: right;\">\n",
       "      <th></th>\n",
       "      <th>name</th>\n",
       "      <th>year</th>\n",
       "      <th>Price</th>\n",
       "      <th>kms_driven</th>\n",
       "      <th>fuel_type</th>\n",
       "      <th>Company</th>\n",
       "    </tr>\n",
       "  </thead>\n",
       "  <tbody>\n",
       "    <tr>\n",
       "      <th>0</th>\n",
       "      <td>Hyundai Santro Xing XO eRLX Euro III</td>\n",
       "      <td>2007</td>\n",
       "      <td>80000</td>\n",
       "      <td>45,000 kms</td>\n",
       "      <td>Petrol</td>\n",
       "      <td>Hyundai</td>\n",
       "    </tr>\n",
       "    <tr>\n",
       "      <th>1</th>\n",
       "      <td>Mahindra Jeep CL550 MDI</td>\n",
       "      <td>2006</td>\n",
       "      <td>425000</td>\n",
       "      <td>40 kms</td>\n",
       "      <td>Diesel</td>\n",
       "      <td>Mahindra</td>\n",
       "    </tr>\n",
       "    <tr>\n",
       "      <th>3</th>\n",
       "      <td>Hyundai Grand i10 Magna 1.2 Kappa VTVT</td>\n",
       "      <td>2014</td>\n",
       "      <td>325000</td>\n",
       "      <td>28,000 kms</td>\n",
       "      <td>Petrol</td>\n",
       "      <td>Hyundai</td>\n",
       "    </tr>\n",
       "    <tr>\n",
       "      <th>4</th>\n",
       "      <td>Ford EcoSport Titanium 1.5L TDCi</td>\n",
       "      <td>2014</td>\n",
       "      <td>575000</td>\n",
       "      <td>36,000 kms</td>\n",
       "      <td>Diesel</td>\n",
       "      <td>Ford</td>\n",
       "    </tr>\n",
       "    <tr>\n",
       "      <th>6</th>\n",
       "      <td>Ford Figo</td>\n",
       "      <td>2012</td>\n",
       "      <td>175000</td>\n",
       "      <td>41,000 kms</td>\n",
       "      <td>Diesel</td>\n",
       "      <td>Ford</td>\n",
       "    </tr>\n",
       "  </tbody>\n",
       "</table>\n",
       "</div>"
      ],
      "text/plain": [
       "                                     name  year   Price  kms_driven fuel_type  \\\n",
       "0    Hyundai Santro Xing XO eRLX Euro III  2007   80000  45,000 kms    Petrol   \n",
       "1                 Mahindra Jeep CL550 MDI  2006  425000      40 kms    Diesel   \n",
       "3  Hyundai Grand i10 Magna 1.2 Kappa VTVT  2014  325000  28,000 kms    Petrol   \n",
       "4        Ford EcoSport Titanium 1.5L TDCi  2014  575000  36,000 kms    Diesel   \n",
       "6                               Ford Figo  2012  175000  41,000 kms    Diesel   \n",
       "\n",
       "    Company  \n",
       "0   Hyundai  \n",
       "1  Mahindra  \n",
       "3   Hyundai  \n",
       "4      Ford  \n",
       "6      Ford  "
      ]
     },
     "execution_count": 28,
     "metadata": {},
     "output_type": "execute_result"
    }
   ],
   "source": [
    "df.head()"
   ]
  },
  {
   "cell_type": "code",
   "execution_count": 30,
   "metadata": {},
   "outputs": [],
   "source": [
    "df['kms_driven'] = df['kms_driven'].str.split(' ').str.get(0).str.replace(',','')"
   ]
  },
  {
   "cell_type": "code",
   "execution_count": 32,
   "metadata": {},
   "outputs": [],
   "source": [
    "df = df[df['kms_driven'].str.isnumeric()]"
   ]
  },
  {
   "cell_type": "code",
   "execution_count": 33,
   "metadata": {},
   "outputs": [
    {
     "name": "stdout",
     "output_type": "stream",
     "text": [
      "<class 'pandas.core.frame.DataFrame'>\n",
      "Int64Index: 817 entries, 0 to 889\n",
      "Data columns (total 6 columns):\n",
      " #   Column      Non-Null Count  Dtype \n",
      "---  ------      --------------  ----- \n",
      " 0   name        817 non-null    object\n",
      " 1   year        817 non-null    int32 \n",
      " 2   Price       817 non-null    int32 \n",
      " 3   kms_driven  817 non-null    object\n",
      " 4   fuel_type   816 non-null    object\n",
      " 5   Company     817 non-null    object\n",
      "dtypes: int32(2), object(4)\n",
      "memory usage: 38.3+ KB\n"
     ]
    }
   ],
   "source": [
    "df.info()"
   ]
  },
  {
   "cell_type": "code",
   "execution_count": 34,
   "metadata": {},
   "outputs": [],
   "source": [
    "df['kms_driven'] = df['kms_driven'].astype(int)"
   ]
  },
  {
   "cell_type": "code",
   "execution_count": 35,
   "metadata": {},
   "outputs": [
    {
     "data": {
      "text/html": [
       "<div>\n",
       "<style scoped>\n",
       "    .dataframe tbody tr th:only-of-type {\n",
       "        vertical-align: middle;\n",
       "    }\n",
       "\n",
       "    .dataframe tbody tr th {\n",
       "        vertical-align: top;\n",
       "    }\n",
       "\n",
       "    .dataframe thead th {\n",
       "        text-align: right;\n",
       "    }\n",
       "</style>\n",
       "<table border=\"1\" class=\"dataframe\">\n",
       "  <thead>\n",
       "    <tr style=\"text-align: right;\">\n",
       "      <th></th>\n",
       "      <th>name</th>\n",
       "      <th>year</th>\n",
       "      <th>Price</th>\n",
       "      <th>kms_driven</th>\n",
       "      <th>fuel_type</th>\n",
       "      <th>Company</th>\n",
       "    </tr>\n",
       "  </thead>\n",
       "  <tbody>\n",
       "    <tr>\n",
       "      <th>132</th>\n",
       "      <td>Toyota Corolla</td>\n",
       "      <td>2009</td>\n",
       "      <td>275000</td>\n",
       "      <td>26000</td>\n",
       "      <td>NaN</td>\n",
       "      <td>Toyota</td>\n",
       "    </tr>\n",
       "  </tbody>\n",
       "</table>\n",
       "</div>"
      ],
      "text/plain": [
       "               name  year   Price  kms_driven fuel_type Company\n",
       "132  Toyota Corolla  2009  275000       26000       NaN  Toyota"
      ]
     },
     "execution_count": 35,
     "metadata": {},
     "output_type": "execute_result"
    }
   ],
   "source": [
    "df[df['fuel_type'].isna()]"
   ]
  },
  {
   "cell_type": "code",
   "execution_count": 36,
   "metadata": {},
   "outputs": [],
   "source": [
    "df = df[~df['fuel_type'].isna()]"
   ]
  },
  {
   "cell_type": "code",
   "execution_count": 38,
   "metadata": {},
   "outputs": [],
   "source": [
    "df.name = df.name.str.split().str.slice(start=0,stop=3).str.join(' ')"
   ]
  },
  {
   "cell_type": "code",
   "execution_count": 39,
   "metadata": {},
   "outputs": [
    {
     "data": {
      "text/html": [
       "<div>\n",
       "<style scoped>\n",
       "    .dataframe tbody tr th:only-of-type {\n",
       "        vertical-align: middle;\n",
       "    }\n",
       "\n",
       "    .dataframe tbody tr th {\n",
       "        vertical-align: top;\n",
       "    }\n",
       "\n",
       "    .dataframe thead th {\n",
       "        text-align: right;\n",
       "    }\n",
       "</style>\n",
       "<table border=\"1\" class=\"dataframe\">\n",
       "  <thead>\n",
       "    <tr style=\"text-align: right;\">\n",
       "      <th></th>\n",
       "      <th>name</th>\n",
       "      <th>year</th>\n",
       "      <th>Price</th>\n",
       "      <th>kms_driven</th>\n",
       "      <th>fuel_type</th>\n",
       "      <th>Company</th>\n",
       "    </tr>\n",
       "  </thead>\n",
       "  <tbody>\n",
       "    <tr>\n",
       "      <th>0</th>\n",
       "      <td>Hyundai Santro Xing</td>\n",
       "      <td>2007</td>\n",
       "      <td>80000</td>\n",
       "      <td>45000</td>\n",
       "      <td>Petrol</td>\n",
       "      <td>Hyundai</td>\n",
       "    </tr>\n",
       "    <tr>\n",
       "      <th>1</th>\n",
       "      <td>Mahindra Jeep CL550</td>\n",
       "      <td>2006</td>\n",
       "      <td>425000</td>\n",
       "      <td>40</td>\n",
       "      <td>Diesel</td>\n",
       "      <td>Mahindra</td>\n",
       "    </tr>\n",
       "    <tr>\n",
       "      <th>3</th>\n",
       "      <td>Hyundai Grand i10</td>\n",
       "      <td>2014</td>\n",
       "      <td>325000</td>\n",
       "      <td>28000</td>\n",
       "      <td>Petrol</td>\n",
       "      <td>Hyundai</td>\n",
       "    </tr>\n",
       "    <tr>\n",
       "      <th>4</th>\n",
       "      <td>Ford EcoSport Titanium</td>\n",
       "      <td>2014</td>\n",
       "      <td>575000</td>\n",
       "      <td>36000</td>\n",
       "      <td>Diesel</td>\n",
       "      <td>Ford</td>\n",
       "    </tr>\n",
       "    <tr>\n",
       "      <th>6</th>\n",
       "      <td>Ford Figo</td>\n",
       "      <td>2012</td>\n",
       "      <td>175000</td>\n",
       "      <td>41000</td>\n",
       "      <td>Diesel</td>\n",
       "      <td>Ford</td>\n",
       "    </tr>\n",
       "  </tbody>\n",
       "</table>\n",
       "</div>"
      ],
      "text/plain": [
       "                     name  year   Price  kms_driven fuel_type   Company\n",
       "0     Hyundai Santro Xing  2007   80000       45000    Petrol   Hyundai\n",
       "1     Mahindra Jeep CL550  2006  425000          40    Diesel  Mahindra\n",
       "3       Hyundai Grand i10  2014  325000       28000    Petrol   Hyundai\n",
       "4  Ford EcoSport Titanium  2014  575000       36000    Diesel      Ford\n",
       "6               Ford Figo  2012  175000       41000    Diesel      Ford"
      ]
     },
     "execution_count": 39,
     "metadata": {},
     "output_type": "execute_result"
    }
   ],
   "source": [
    "df.head()"
   ]
  },
  {
   "cell_type": "code",
   "execution_count": 40,
   "metadata": {},
   "outputs": [
    {
     "name": "stdout",
     "output_type": "stream",
     "text": [
      "<class 'pandas.core.frame.DataFrame'>\n",
      "Int64Index: 816 entries, 0 to 889\n",
      "Data columns (total 6 columns):\n",
      " #   Column      Non-Null Count  Dtype \n",
      "---  ------      --------------  ----- \n",
      " 0   name        816 non-null    object\n",
      " 1   year        816 non-null    int32 \n",
      " 2   Price       816 non-null    int32 \n",
      " 3   kms_driven  816 non-null    int32 \n",
      " 4   fuel_type   816 non-null    object\n",
      " 5   Company     816 non-null    object\n",
      "dtypes: int32(3), object(3)\n",
      "memory usage: 35.1+ KB\n"
     ]
    }
   ],
   "source": [
    "df.info()"
   ]
  },
  {
   "cell_type": "code",
   "execution_count": 41,
   "metadata": {},
   "outputs": [],
   "source": [
    "df = df.reset_index(drop=True)"
   ]
  },
  {
   "cell_type": "code",
   "execution_count": 43,
   "metadata": {},
   "outputs": [],
   "source": [
    "df.to_csv('cleaned_data.csv')"
   ]
  },
  {
   "cell_type": "code",
   "execution_count": 44,
   "metadata": {},
   "outputs": [
    {
     "data": {
      "text/html": [
       "<div>\n",
       "<style scoped>\n",
       "    .dataframe tbody tr th:only-of-type {\n",
       "        vertical-align: middle;\n",
       "    }\n",
       "\n",
       "    .dataframe tbody tr th {\n",
       "        vertical-align: top;\n",
       "    }\n",
       "\n",
       "    .dataframe thead th {\n",
       "        text-align: right;\n",
       "    }\n",
       "</style>\n",
       "<table border=\"1\" class=\"dataframe\">\n",
       "  <thead>\n",
       "    <tr style=\"text-align: right;\">\n",
       "      <th></th>\n",
       "      <th>year</th>\n",
       "      <th>Price</th>\n",
       "      <th>kms_driven</th>\n",
       "    </tr>\n",
       "  </thead>\n",
       "  <tbody>\n",
       "    <tr>\n",
       "      <th>count</th>\n",
       "      <td>816.000000</td>\n",
       "      <td>8.160000e+02</td>\n",
       "      <td>816.000000</td>\n",
       "    </tr>\n",
       "    <tr>\n",
       "      <th>mean</th>\n",
       "      <td>2012.444853</td>\n",
       "      <td>4.117176e+05</td>\n",
       "      <td>46275.531863</td>\n",
       "    </tr>\n",
       "    <tr>\n",
       "      <th>std</th>\n",
       "      <td>4.002992</td>\n",
       "      <td>4.751844e+05</td>\n",
       "      <td>34297.428044</td>\n",
       "    </tr>\n",
       "    <tr>\n",
       "      <th>min</th>\n",
       "      <td>1995.000000</td>\n",
       "      <td>3.000000e+04</td>\n",
       "      <td>0.000000</td>\n",
       "    </tr>\n",
       "    <tr>\n",
       "      <th>25%</th>\n",
       "      <td>2010.000000</td>\n",
       "      <td>1.750000e+05</td>\n",
       "      <td>27000.000000</td>\n",
       "    </tr>\n",
       "    <tr>\n",
       "      <th>50%</th>\n",
       "      <td>2013.000000</td>\n",
       "      <td>2.999990e+05</td>\n",
       "      <td>41000.000000</td>\n",
       "    </tr>\n",
       "    <tr>\n",
       "      <th>75%</th>\n",
       "      <td>2015.000000</td>\n",
       "      <td>4.912500e+05</td>\n",
       "      <td>56818.500000</td>\n",
       "    </tr>\n",
       "    <tr>\n",
       "      <th>max</th>\n",
       "      <td>2019.000000</td>\n",
       "      <td>8.500003e+06</td>\n",
       "      <td>400000.000000</td>\n",
       "    </tr>\n",
       "  </tbody>\n",
       "</table>\n",
       "</div>"
      ],
      "text/plain": [
       "              year         Price     kms_driven\n",
       "count   816.000000  8.160000e+02     816.000000\n",
       "mean   2012.444853  4.117176e+05   46275.531863\n",
       "std       4.002992  4.751844e+05   34297.428044\n",
       "min    1995.000000  3.000000e+04       0.000000\n",
       "25%    2010.000000  1.750000e+05   27000.000000\n",
       "50%    2013.000000  2.999990e+05   41000.000000\n",
       "75%    2015.000000  4.912500e+05   56818.500000\n",
       "max    2019.000000  8.500003e+06  400000.000000"
      ]
     },
     "execution_count": 44,
     "metadata": {},
     "output_type": "execute_result"
    }
   ],
   "source": [
    "df.describe()"
   ]
  },
  {
   "cell_type": "code",
   "execution_count": 47,
   "metadata": {},
   "outputs": [],
   "source": [
    "df = df[df.Price < 6e6].reset_index(drop=True)"
   ]
  },
  {
   "cell_type": "code",
   "execution_count": 48,
   "metadata": {},
   "outputs": [
    {
     "data": {
      "text/plain": [
       "array(['Hyundai', 'Mahindra', 'Ford', 'Maruti', 'Skoda', 'Audi', 'Toyota',\n",
       "       'Renault', 'Honda', 'Datsun', 'Mitsubishi', 'Tata', 'Volkswagen',\n",
       "       'Chevrolet', 'Mini', 'BMW', 'Nissan', 'Hindustan', 'Fiat', 'Force',\n",
       "       'Mercedes', 'Land', 'Jaguar', 'Jeep', 'Volvo'], dtype=object)"
      ]
     },
     "execution_count": 48,
     "metadata": {},
     "output_type": "execute_result"
    }
   ],
   "source": [
    "df.Company.unique()"
   ]
  },
  {
   "cell_type": "code",
   "execution_count": 49,
   "metadata": {},
   "outputs": [
    {
     "data": {
      "image/png": "[encoded data removed]",
      "text/plain": [
       "<Figure size 1080x504 with 1 Axes>"
      ]
     },
     "metadata": {
      "needs_background": "light"
     },
     "output_type": "display_data"
    }
   ],
   "source": [
    "plt.subplots(figsize=(15,7))\n",
    "ax = sns.boxplot(data=df,x='Company',y='Price')\n",
    "ax.set_xticklabels(ax.get_xticklabels(),rotation=40,ha='right')\n",
    "plt.show()"
   ]
  },
  {
   "cell_type": "code",
   "execution_count": 54,
   "metadata": {},
   "outputs": [
    {
     "data": {
      "text/plain": [
       "2015    111\n",
       "2013     94\n",
       "2014     91\n",
       "2012     75\n",
       "2016     74\n",
       "2011     59\n",
       "2009     54\n",
       "2017     53\n",
       "2010     43\n",
       "2018     30\n",
       "2006     22\n",
       "2007     19\n",
       "2019     18\n",
       "2008     16\n",
       "2005     13\n",
       "2003     13\n",
       "2004     12\n",
       "2000      7\n",
       "2001      5\n",
       "2002      4\n",
       "1995      2\n",
       "Name: year, dtype: int64"
      ]
     },
     "execution_count": 54,
     "metadata": {},
     "output_type": "execute_result"
    }
   ],
   "source": [
    "df.year.value_counts()"
   ]
  },
  {
   "cell_type": "code",
   "execution_count": 58,
   "metadata": {},
   "outputs": [
    {
     "data": {
      "image/png": "[encoded data removed]",
      "text/plain": [
       "<Figure size 864x504 with 1 Axes>"
      ]
     },
     "metadata": {
      "needs_background": "light"
     },
     "output_type": "display_data"
    }
   ],
   "source": [
    "plt.subplots(figsize=(12,7))\n",
    "ax = sns.boxplot(data=df,x='year',y='Price')\n",
    "ax.set_xticklabels(ax.get_xticklabels(),rotation=40,ha='right')\n",
    "plt.show()"
   ]
  },
  {
   "cell_type": "code",
   "execution_count": 63,
   "metadata": {},
   "outputs": [
    {
     "data": {
      "image/png": "[encoded data removed]",
      "text/plain": [
       "<Figure size 864x504 with 1 Axes>"
      ]
     },
     "metadata": {
      "needs_background": "light"
     },
     "output_type": "display_data"
    }
   ],
   "source": [
    "plt.subplots(figsize=(12,7))\n",
    "ax = sns.boxplot(data=df,x='fuel_type',y='Price')\n",
    "plt.show()"
   ]
  },
  {
   "cell_type": "code",
   "execution_count": 65,
   "metadata": {},
   "outputs": [
    {
     "data": {
      "image/png": "[encoded data removed]",
      "text/plain": [
       "<Figure size 864x504 with 1 Axes>"
      ]
     },
     "metadata": {
      "needs_background": "light"
     },
     "output_type": "display_data"
    }
   ],
   "source": [
    "plt.subplots(figsize=(12,7))\n",
    "ax = sns.boxplot(data=df,x='Company',y='Price')\n",
    "ax.set_xticklabels(ax.get_xticklabels(),rotation=40,ha='right')\n",
    "plt.show()"
   ]
  },
  {
   "cell_type": "code",
   "execution_count": 60,
   "metadata": {},
   "outputs": [
    {
     "data": {
      "text/plain": [
       "<AxesSubplot:xlabel='kms_driven', ylabel='Price'>"
      ]
     },
     "execution_count": 60,
     "metadata": {},
     "output_type": "execute_result"
    },
    {
     "data": {
      "image/png": "[encoded data removed]",
      "text/plain": [
       "<Figure size 864x504 with 1 Axes>"
      ]
     },
     "metadata": {
      "needs_background": "light"
     },
     "output_type": "display_data"
    }
   ],
   "source": [
    "plt.figure(figsize=(12,7))\n",
    "sns.scatterplot(data=df,x='kms_driven',y='Price')"
   ]
  },
  {
   "cell_type": "code",
   "execution_count": null,
   "metadata": {},
   "outputs": [],
   "source": []
  }
 ],
 "metadata": {
  "kernelspec": {
   "display_name": "Python 3",
   "language": "python",
   "name": "python3"
  },
  "language_info": {
   "codemirror_mode": {
    "name": "ipython",
    "version": 3
   },
   "file_extension": ".py",
   "mimetype": "text/x-python",
   "name": "python",
   "nbconvert_exporter": "python",
   "pygments_lexer": "ipython3",
   "version": "3.8.5"
  }
 },
 "nbformat": 4,
 "nbformat_minor": 4
}
